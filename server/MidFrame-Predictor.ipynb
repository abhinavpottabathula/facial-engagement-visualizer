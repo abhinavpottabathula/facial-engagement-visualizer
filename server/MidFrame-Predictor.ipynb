{
 "cells": [
  {
   "cell_type": "code",
   "execution_count": 7,
   "metadata": {},
   "outputs": [],
   "source": [
    "import tensorflow as tf\n",
    "import keras\n",
    "import tensorflow_hub as hub\n",
    "import pandas as pd\n",
    "import numpy as np\n",
    "import cv2\n",
    "import os\n",
    "from matplotlib import pyplot as plt\n",
    "\n",
    "IMAGE_SHAPE = (299, 299)\n",
    "NUM_CLASSES = 4\n",
    "model_path = './Models/saved_engagement_model_6.h5'\n",
    "test_path = './MidFrameDataSet/Test/'"
   ]
  },
  {
   "cell_type": "code",
   "execution_count": 9,
   "metadata": {},
   "outputs": [
    {
     "name": "stdout",
     "output_type": "stream",
     "text": [
      "Starting...\n",
      "Done.\n"
     ]
    }
   ],
   "source": [
    "def test_load(path):\n",
    "    print(\"Starting...\")\n",
    "    x, y = [], []\n",
    "    for file in os.listdir(path):\n",
    "        if file[0] == '.':\n",
    "            continue\n",
    "        im = cv2.imread(path + file)\n",
    "        im = cv2.resize(im, IMAGE_SHAPE)\n",
    "        im = tf.keras.utils.normalize(im)\n",
    "        x.append(im)\n",
    "    print(\"Done.\")\n",
    "    return np.array(x)\n",
    "\n",
    "x_test = test_load(test_path)"
   ]
  },
  {
   "cell_type": "code",
   "execution_count": 40,
   "metadata": {},
   "outputs": [
    {
     "name": "stdout",
     "output_type": "stream",
     "text": [
      "Model: \"sequential_3\"\n",
      "_________________________________________________________________\n",
      "Layer (type)                 Output Shape              Param #   \n",
      "=================================================================\n",
      "keras_layer_3 (KerasLayer)   (None, 1001)              23853833  \n",
      "_________________________________________________________________\n",
      "dropout_3 (Dropout)          (None, 1001)              0         \n",
      "_________________________________________________________________\n",
      "dense_3 (Dense)              (None, 4)                 4008      \n",
      "=================================================================\n",
      "Total params: 23,857,841\n",
      "Trainable params: 23,823,409\n",
      "Non-trainable params: 34,432\n",
      "_________________________________________________________________\n"
     ]
    }
   ],
   "source": [
    "classifier_url = 'https://tfhub.dev/google/imagenet/inception_v3/classification/4'\n",
    "do_fine_tuning = True\n",
    "model = tf.keras.Sequential([\n",
    "    tf.keras.layers.InputLayer(input_shape=IMAGE_SHAPE + (3,)),\n",
    "    hub.KerasLayer(classifier_url, trainable=do_fine_tuning),\n",
    "    tf.keras.layers.Dropout(rate=0.2),\n",
    "    tf.keras.layers.Dense(NUM_CLASSES,\n",
    "                          kernel_regularizer=tf.keras.regularizers.l2(0.0001))\n",
    "])\n",
    "# model.layers[0].trainable = False # <-- keep commented\n",
    "model.build((None,)+IMAGE_SHAPE+(3,))\n",
    "model.summary()"
   ]
  },
  {
   "cell_type": "code",
   "execution_count": 41,
   "metadata": {},
   "outputs": [
    {
     "data": {
      "text/plain": [
       "<tensorflow.python.keras.engine.sequential.Sequential at 0x7faccad22470>"
      ]
     },
     "execution_count": 41,
     "metadata": {},
     "output_type": "execute_result"
    }
   ],
   "source": [
    "keras.models.load_model(model_path, custom_objects={'KerasLayer': hub.KerasLayer})"
   ]
  },
  {
   "cell_type": "code",
   "execution_count": 42,
   "metadata": {},
   "outputs": [
    {
     "data": {
      "text/plain": [
       "{'boredom': -0.3705101,\n",
       " 'engagement': 0.595587,\n",
       " 'confusion': -0.62295794,\n",
       " 'frustration': 0.33737963}"
      ]
     },
     "execution_count": 42,
     "metadata": {},
     "output_type": "execute_result"
    }
   ],
   "source": [
    "tst = np.array([x_test[5]])\n",
    "\n",
    "def predict(tst):\n",
    "    res = model.predict(tst)[0]\n",
    "    return {'boredom': res[0], 'engagement': res[1], 'confusion': res[2], 'frustration': res[3]}\n",
    "\n",
    "predict(tst)"
   ]
  },
  {
   "cell_type": "code",
   "execution_count": null,
   "metadata": {},
   "outputs": [],
   "source": []
  }
 ],
 "metadata": {
  "kernelspec": {
   "display_name": "Python 3",
   "language": "python",
   "name": "python3"
  },
  "language_info": {
   "codemirror_mode": {
    "name": "ipython",
    "version": 3
   },
   "file_extension": ".py",
   "mimetype": "text/x-python",
   "name": "python",
   "nbconvert_exporter": "python",
   "pygments_lexer": "ipython3",
   "version": "3.6.5"
  }
 },
 "nbformat": 4,
 "nbformat_minor": 2
}
