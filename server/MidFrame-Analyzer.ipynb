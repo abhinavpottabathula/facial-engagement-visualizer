{
 "cells": [
  {
   "cell_type": "code",
   "execution_count": 9,
   "metadata": {},
   "outputs": [],
   "source": [
    "import tensorflow as tf\n",
    "import keras\n",
    "import tensorflow_hub as hub\n",
    "import pandas as pd\n",
    "import numpy as np\n",
    "import cv2\n",
    "import os\n",
    "from matplotlib import pyplot as plt\n",
    "\n",
    "IMAGE_SHAPE = (299, 299)\n",
    "NUM_CLASSES = 4\n",
    "preloaded = False\n",
    "preloaded_path = './Models/saved_engagement_model_2/variables/variables.data-00000-of-00001'"
   ]
  },
  {
   "cell_type": "code",
   "execution_count": 2,
   "metadata": {},
   "outputs": [
    {
     "data": {
      "text/html": [
       "<div>\n",
       "<style scoped>\n",
       "    .dataframe tbody tr th:only-of-type {\n",
       "        vertical-align: middle;\n",
       "    }\n",
       "\n",
       "    .dataframe tbody tr th {\n",
       "        vertical-align: top;\n",
       "    }\n",
       "\n",
       "    .dataframe thead th {\n",
       "        text-align: right;\n",
       "    }\n",
       "</style>\n",
       "<table border=\"1\" class=\"dataframe\">\n",
       "  <thead>\n",
       "    <tr style=\"text-align: right;\">\n",
       "      <th></th>\n",
       "      <th>Unnamed: 0</th>\n",
       "      <th>Boredom</th>\n",
       "      <th>Engagement</th>\n",
       "      <th>Confusion</th>\n",
       "      <th>Frustration</th>\n",
       "      <th>ImageID</th>\n",
       "    </tr>\n",
       "  </thead>\n",
       "  <tbody>\n",
       "    <tr>\n",
       "      <th>0</th>\n",
       "      <td>0</td>\n",
       "      <td>0</td>\n",
       "      <td>2</td>\n",
       "      <td>0</td>\n",
       "      <td>0</td>\n",
       "      <td>1100011002.jpg</td>\n",
       "    </tr>\n",
       "    <tr>\n",
       "      <th>1</th>\n",
       "      <td>1</td>\n",
       "      <td>0</td>\n",
       "      <td>2</td>\n",
       "      <td>0</td>\n",
       "      <td>0</td>\n",
       "      <td>1100011003.jpg</td>\n",
       "    </tr>\n",
       "    <tr>\n",
       "      <th>2</th>\n",
       "      <td>2</td>\n",
       "      <td>0</td>\n",
       "      <td>3</td>\n",
       "      <td>0</td>\n",
       "      <td>0</td>\n",
       "      <td>1100011004.jpg</td>\n",
       "    </tr>\n",
       "    <tr>\n",
       "      <th>3</th>\n",
       "      <td>3</td>\n",
       "      <td>0</td>\n",
       "      <td>3</td>\n",
       "      <td>0</td>\n",
       "      <td>0</td>\n",
       "      <td>1100011005.jpg</td>\n",
       "    </tr>\n",
       "    <tr>\n",
       "      <th>4</th>\n",
       "      <td>4</td>\n",
       "      <td>0</td>\n",
       "      <td>3</td>\n",
       "      <td>0</td>\n",
       "      <td>0</td>\n",
       "      <td>1100011006.jpg</td>\n",
       "    </tr>\n",
       "    <tr>\n",
       "      <th>...</th>\n",
       "      <td>...</td>\n",
       "      <td>...</td>\n",
       "      <td>...</td>\n",
       "      <td>...</td>\n",
       "      <td>...</td>\n",
       "      <td>...</td>\n",
       "    </tr>\n",
       "    <tr>\n",
       "      <th>8920</th>\n",
       "      <td>8920</td>\n",
       "      <td>1</td>\n",
       "      <td>3</td>\n",
       "      <td>0</td>\n",
       "      <td>0</td>\n",
       "      <td>9877360164.jpg</td>\n",
       "    </tr>\n",
       "    <tr>\n",
       "      <th>8921</th>\n",
       "      <td>8921</td>\n",
       "      <td>0</td>\n",
       "      <td>3</td>\n",
       "      <td>0</td>\n",
       "      <td>0</td>\n",
       "      <td>9877360165.jpg</td>\n",
       "    </tr>\n",
       "    <tr>\n",
       "      <th>8922</th>\n",
       "      <td>8922</td>\n",
       "      <td>1</td>\n",
       "      <td>3</td>\n",
       "      <td>0</td>\n",
       "      <td>2</td>\n",
       "      <td>9877360166.jpg</td>\n",
       "    </tr>\n",
       "    <tr>\n",
       "      <th>8923</th>\n",
       "      <td>8923</td>\n",
       "      <td>1</td>\n",
       "      <td>3</td>\n",
       "      <td>1</td>\n",
       "      <td>1</td>\n",
       "      <td>9877360168.jpg</td>\n",
       "    </tr>\n",
       "    <tr>\n",
       "      <th>8924</th>\n",
       "      <td>8924</td>\n",
       "      <td>0</td>\n",
       "      <td>1</td>\n",
       "      <td>0</td>\n",
       "      <td>0</td>\n",
       "      <td>9877360169.jpg</td>\n",
       "    </tr>\n",
       "  </tbody>\n",
       "</table>\n",
       "<p>8925 rows × 6 columns</p>\n",
       "</div>"
      ],
      "text/plain": [
       "      Unnamed: 0  Boredom  Engagement  Confusion  Frustration         ImageID\n",
       "0              0        0           2          0            0  1100011002.jpg\n",
       "1              1        0           2          0            0  1100011003.jpg\n",
       "2              2        0           3          0            0  1100011004.jpg\n",
       "3              3        0           3          0            0  1100011005.jpg\n",
       "4              4        0           3          0            0  1100011006.jpg\n",
       "...          ...      ...         ...        ...          ...             ...\n",
       "8920        8920        1           3          0            0  9877360164.jpg\n",
       "8921        8921        0           3          0            0  9877360165.jpg\n",
       "8922        8922        1           3          0            2  9877360166.jpg\n",
       "8923        8923        1           3          1            1  9877360168.jpg\n",
       "8924        8924        0           1          0            0  9877360169.jpg\n",
       "\n",
       "[8925 rows x 6 columns]"
      ]
     },
     "execution_count": 2,
     "metadata": {},
     "output_type": "execute_result"
    }
   ],
   "source": [
    "train_path = './MidFrameDataSet/Train/'\n",
    "val_path = './MidFrameDataSet/Validation/'\n",
    "test_path = './MidFrameDataSet/Test/'\n",
    "\n",
    "labels = pd.read_csv('./MidFrameDataSet/labels.csv')\n",
    "labels"
   ]
  },
  {
   "cell_type": "code",
   "execution_count": 3,
   "metadata": {},
   "outputs": [],
   "source": [
    "def get_label(imageID):\n",
    "    success = True\n",
    "    row = labels.loc[labels['ImageID'] == imageID]\n",
    "    b, e, c, f = None, None, None, None\n",
    "    try:\n",
    "        b = row['Boredom'].iloc[0]\n",
    "        e = row['Engagement'].iloc[0]\n",
    "        c = row['Confusion'].iloc[0]\n",
    "        f = row['Frustration'].iloc[0]\n",
    "    except:\n",
    "        success = False\n",
    "    return np.array([b, e, c, f]), success\n",
    "\n",
    "def data_load(path):\n",
    "    print(\"Starting...\")\n",
    "    x, y = [], []\n",
    "    for file in os.listdir(path):\n",
    "        if file[0] == '.':\n",
    "            continue\n",
    "        im = cv2.imread(path + file)\n",
    "        im = cv2.resize(im, IMAGE_SHAPE)\n",
    "        im = tf.keras.utils.normalize(im)\n",
    "        lab, success = get_label(file)\n",
    "        if not success:\n",
    "            continue\n",
    "        x.append(im)\n",
    "        y.append(lab)\n",
    "    print(\"Done.\")\n",
    "    return np.array(x), np.array(y)"
   ]
  },
  {
   "cell_type": "code",
   "execution_count": 4,
   "metadata": {},
   "outputs": [
    {
     "name": "stdout",
     "output_type": "stream",
     "text": [
      "Starting...\n",
      "Done.\n",
      "Starting...\n",
      "Done.\n",
      "Starting...\n",
      "Done.\n"
     ]
    }
   ],
   "source": [
    "x_train, y_train = data_load(train_path)\n",
    "x_val, y_val = data_load(val_path)\n",
    "x_test, y_test = data_load(test_path)"
   ]
  },
  {
   "cell_type": "code",
   "execution_count": 5,
   "metadata": {},
   "outputs": [],
   "source": [
    "# train_dataset = tf.data.Dataset.from_tensor_slices((x_train, y_train))\n",
    "# val_dataset = tf.data.Dataset.from_tensor_slices((x_val, y_val))\n",
    "# test_dataset = tf.data.Dataset.from_tensor_slices((x_test, y_test))"
   ]
  },
  {
   "cell_type": "code",
   "execution_count": 10,
   "metadata": {},
   "outputs": [
    {
     "name": "stdout",
     "output_type": "stream",
     "text": [
      "Model: \"sequential_1\"\n",
      "_________________________________________________________________\n",
      "Layer (type)                 Output Shape              Param #   \n",
      "=================================================================\n",
      "keras_layer_1 (KerasLayer)   (None, 1001)              23853833  \n",
      "_________________________________________________________________\n",
      "dropout_1 (Dropout)          (None, 1001)              0         \n",
      "_________________________________________________________________\n",
      "dense_1 (Dense)              (None, 4)                 4008      \n",
      "=================================================================\n",
      "Total params: 23,857,841\n",
      "Trainable params: 4,008\n",
      "Non-trainable params: 23,853,833\n",
      "_________________________________________________________________\n"
     ]
    }
   ],
   "source": [
    "classifier_url = 'https://tfhub.dev/google/imagenet/inception_v3/classification/4'\n",
    "do_fine_tuning = True\n",
    "model = tf.keras.Sequential([\n",
    "    tf.keras.layers.InputLayer(input_shape=IMAGE_SHAPE + (3,)),\n",
    "    hub.KerasLayer(classifier_url, trainable=do_fine_tuning),\n",
    "    tf.keras.layers.Dropout(rate=0.2),\n",
    "    tf.keras.layers.Dense(NUM_CLASSES,\n",
    "                          kernel_regularizer=tf.keras.regularizers.l2(0.0001), activation='softmax')\n",
    "])\n",
    "model.layers[0].trainable = False\n",
    "model.build((None,)+IMAGE_SHAPE+(3,))\n",
    "model.summary()"
   ]
  },
  {
   "cell_type": "code",
   "execution_count": 11,
   "metadata": {},
   "outputs": [],
   "source": [
    "model.compile(\n",
    "  optimizer=tf.keras.optimizers.SGD(lr=0.005, momentum=0.9), \n",
    "  loss=tf.keras.losses.CategoricalCrossentropy(from_logits=True, label_smoothing=0.1),\n",
    "  metrics=['accuracy'])"
   ]
  },
  {
   "cell_type": "code",
   "execution_count": 12,
   "metadata": {},
   "outputs": [
    {
     "name": "stdout",
     "output_type": "stream",
     "text": [
      "Epoch 1/5\n",
      "64/64 [==============================] - 521s 8s/step - loss: 435.6448 - accuracy: 0.7555 - val_loss: 2509.7007 - val_accuracy: 0.6407\n",
      "Epoch 2/5\n",
      "64/64 [==============================] - 462s 7s/step - loss: 2753.3861 - accuracy: 0.7954 - val_loss: 5350.2324 - val_accuracy: 0.6407\n",
      "Epoch 3/5\n",
      "64/64 [==============================] - 441s 7s/step - loss: 5266.7250 - accuracy: 0.7861 - val_loss: 8199.3525 - val_accuracy: 0.6407\n",
      "Epoch 4/5\n",
      "64/64 [==============================] - 440s 7s/step - loss: 7702.3399 - accuracy: 0.7956 - val_loss: 11026.4736 - val_accuracy: 0.6407\n",
      "Epoch 5/5\n",
      "64/64 [==============================] - 432s 7s/step - loss: 10065.3425 - accuracy: 0.8002 - val_loss: 13887.4873 - val_accuracy: 0.6407\n"
     ]
    }
   ],
   "source": [
    "steps_per_epoch = 64\n",
    "validation_steps = 64\n",
    "hist = model.fit(\n",
    "    x=x_train, y=y_train,\n",
    "    epochs=5, steps_per_epoch=steps_per_epoch,\n",
    "    validation_data=(x_val, y_val),\n",
    "    validation_steps=validation_steps).history"
   ]
  },
  {
   "cell_type": "code",
   "execution_count": 13,
   "metadata": {},
   "outputs": [],
   "source": [
    "count = 1\n",
    "for item in os.listdir(\"./Models\"):\n",
    "    count += 1\n",
    "saved_model_path = f\"./Models/saved_engagement_model_\" + str(count) + \".h5\"\n",
    "# tf.saved_model.save(model, saved_model_path)\n",
    "model.save(saved_model_path)"
   ]
  },
  {
   "cell_type": "code",
   "execution_count": 14,
   "metadata": {},
   "outputs": [
    {
     "data": {
      "text/plain": [
       "[<matplotlib.lines.Line2D at 0x7fa150c22860>]"
      ]
     },
     "execution_count": 14,
     "metadata": {},
     "output_type": "execute_result"
    },
    {
     "data": {
      "image/png": "[encoded data removed]",
      "text/plain": [
       "<Figure size 432x288 with 1 Axes>"
      ]
     },
     "metadata": {},
     "output_type": "display_data"
    },
    {
     "data": {
      "image/png": "[encoded data removed]",
      "text/plain": [
       "<Figure size 432x288 with 1 Axes>"
      ]
     },
     "metadata": {},
     "output_type": "display_data"
    }
   ],
   "source": [
    "plt.figure()\n",
    "plt.ylabel(\"Loss (training and validation)\")\n",
    "plt.xlabel(\"Training Steps\")\n",
    "plt.ylim([0,2])\n",
    "plt.plot(hist[\"loss\"])\n",
    "plt.plot(hist[\"val_loss\"])\n",
    "\n",
    "plt.figure()\n",
    "plt.ylabel(\"Accuracy (training and validation)\")\n",
    "plt.xlabel(\"Training Steps\")\n",
    "plt.ylim([0,1])\n",
    "plt.plot(hist[\"accuracy\"])\n",
    "plt.plot(hist[\"val_accuracy\"])"
   ]
  },
  {
   "cell_type": "code",
   "execution_count": null,
   "metadata": {},
   "outputs": [
    {
     "name": "stdout",
     "output_type": "stream",
     "text": [
      "49/54 [==========================>...] - ETA: 9s - loss: 11086.0332 - accuracy: 0.7857 "
     ]
    }
   ],
   "source": [
    "test_hist = model.evaluate(\n",
    "    x=x_test, y=y_test, batch_size=None, verbose=1, sample_weight=None, steps=None,\n",
    "    callbacks=None, max_queue_size=10, workers=1, use_multiprocessing=False,\n",
    "    return_dict=False\n",
    ")"
   ]
  },
  {
   "cell_type": "code",
   "execution_count": null,
   "metadata": {},
   "outputs": [],
   "source": []
  }
 ],
 "metadata": {
  "kernelspec": {
   "display_name": "Python 3",
   "language": "python",
   "name": "python3"
  },
  "language_info": {
   "codemirror_mode": {
    "name": "ipython",
    "version": 3
   },
   "file_extension": ".py",
   "mimetype": "text/x-python",
   "name": "python",
   "nbconvert_exporter": "python",
   "pygments_lexer": "ipython3",
   "version": "3.6.5"
  }
 },
 "nbformat": 4,
 "nbformat_minor": 2
}
